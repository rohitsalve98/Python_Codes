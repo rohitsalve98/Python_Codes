{
  "nbformat": 4,
  "nbformat_minor": 0,
  "metadata": {
    "colab": {
      "name": "TINDER_API.ipynb",
      "provenance": [],
      "authorship_tag": "ABX9TyO+wzKprgcHvG5SZlH2dg+2",
      "include_colab_link": true
    },
    "kernelspec": {
      "name": "python3",
      "display_name": "Python 3"
    },
    "language_info": {
      "name": "python"
    }
  },
  "cells": [
    {
      "cell_type": "markdown",
      "metadata": {
        "id": "view-in-github",
        "colab_type": "text"
      },
      "source": [
        "<a href=\"https://colab.research.google.com/github/rohitsalve98/Python_Codes/blob/main/TINDER_API.ipynb\" target=\"_parent\"><img src=\"https://colab.research.google.com/assets/colab-badge.svg\" alt=\"Open In Colab\"/></a>"
      ]
    },
    {
      "cell_type": "markdown",
      "metadata": {
        "id": "GdHVyCU-60IY"
      },
      "source": [
        "Make auth system for user login and signup"
      ]
    },
    {
      "cell_type": "code",
      "metadata": {
        "id": "HMop8leg37oK"
      },
      "source": [
        "import firebase_admin\n",
        "from firebase_admin import auth,storage, firestore\n",
        "from firebase_admin import credentials"
      ],
      "execution_count": 14,
      "outputs": []
    },
    {
      "cell_type": "code",
      "metadata": {
        "id": "owGX4Be_4eJW"
      },
      "source": [
        "cred = credentials.Certificate(\"/content/tinder-api-b2a46-firebase-adminsdk-8hu6a-f6b9eabc36.json\")\n",
        "firebase_admin.initialize_app(cred)\n",
        "store = firestore.client()\n"
      ],
      "execution_count": 15,
      "outputs": []
    },
    {
      "cell_type": "code",
      "metadata": {
        "id": "VZNMkZWI55Qs"
      },
      "source": [
        "#user SignUp\n",
        "\n",
        "def signUp(emailOfUser,passwordOfUser):\n",
        "  uid = \"\"\n",
        "  message = \"\"\n",
        "  try:\n",
        "    user = auth.create_user(\n",
        "        email=emailOfUser,\n",
        "        email_verified=False,\n",
        "        password=passwordOfUser)\n",
        "    message = \"Sucessfully created new user\"\n",
        "    uid = user.uid\n",
        "  except:\n",
        "    message = \"User already there\"\n",
        "\n",
        "  return {\"uid\":uid, \"message\":message} "
      ],
      "execution_count": null,
      "outputs": []
    },
    {
      "cell_type": "code",
      "metadata": {
        "colab": {
          "base_uri": "https://localhost:8080/"
        },
        "id": "BUTIFH2vDJTQ",
        "outputId": "aa28bf2a-f670-4395-d6ed-a3c5dc71dad4"
      },
      "source": [
        "signUp(\"shoe@example.com\",\"283456\")"
      ],
      "execution_count": null,
      "outputs": [
        {
          "output_type": "execute_result",
          "data": {
            "text/plain": [
              "{'message': 'Sucessfully created new user',\n",
              " 'uid': 'nnXzbfAFIcb7Wk8Yw4nCYwEMiNt1'}"
            ]
          },
          "metadata": {
            "tags": []
          },
          "execution_count": 17
        }
      ]
    },
    {
      "cell_type": "code",
      "metadata": {
        "colab": {
          "base_uri": "https://localhost:8080/"
        },
        "id": "SzIMRf_I8Z3v",
        "outputId": "1037c2e0-3338-44f4-ca37-bc8b9415c762"
      },
      "source": [
        "#User Login\n",
        "try:\n",
        "  user = auth.get_user_by_email(\"roht@example.com\")\n",
        "  print(user.uid)\n",
        "except:\n",
        "  print(\"No user found\")"
      ],
      "execution_count": null,
      "outputs": [
        {
          "output_type": "stream",
          "text": [
            "No user found\n"
          ],
          "name": "stdout"
        }
      ]
    },
    {
      "cell_type": "code",
      "metadata": {
        "id": "TaqkIh809v6N"
      },
      "source": [
        "#User Login\n",
        "\n",
        "def login(emailOfUser,passwordOfUser):\n",
        "  uid = \"\"\n",
        "  message = \"\"\n",
        "  try:\n",
        "    user = auth.get_user_by_email(emailOfUser)\n",
        "    message = \"Sucessfully Login user\"\n",
        "    uid = user.uid\n",
        "  except:\n",
        "    message = \"User not there in firebase\"\n",
        "\n",
        "  return {\"uid\":uid, \"message\":message}"
      ],
      "execution_count": null,
      "outputs": []
    },
    {
      "cell_type": "code",
      "metadata": {
        "colab": {
          "base_uri": "https://localhost:8080/"
        },
        "id": "ITFq29VJExuw",
        "outputId": "bc19e6e7-91c9-4120-903c-ec012aacb9f4"
      },
      "source": [
        "login(\"rohit@example.com\",\"123456\")"
      ],
      "execution_count": null,
      "outputs": [
        {
          "output_type": "execute_result",
          "data": {
            "text/plain": [
              "{'message': 'Sucessfully Login user', 'uid': 'lQ7aCdzDCueG6AY0rzyvMzwe7du2'}"
            ]
          },
          "metadata": {
            "tags": []
          },
          "execution_count": 21
        }
      ]
    },
    {
      "cell_type": "code",
      "metadata": {
        "id": "tOBGcfdDE5ab"
      },
      "source": [
        "#update User profile:\n",
        "'''  1.Name\n",
        "  2.Image\n",
        "  3.bio\n",
        "  4. number\n",
        "  6. DOB\n",
        "  7. gender\n",
        "  8. passion\n",
        "  9. job\n",
        "  10. company\n",
        "  11. location:lat lang, city, state, country\n",
        "'''\n",
        "\n",
        "\n",
        "def updateUserData(uid,dit):\n",
        "  dit_user_details = {}\n",
        "  dit_user_details['name'] = dit[\"name\"]\n",
        "  dit_user_details['number'] = dit[\"number\"]\n",
        "  dit_user_details['image'] = dit[\"image\"]\n",
        "  dit_user_details['bio'] = dit[\"bio\"]\n",
        "  dit_user_details['location'] = dit[\"location\"]\n",
        "  dit_user_details['DOB'] = dit[\"DOB\"]\n",
        "  dit_user_details['gender'] = dit[\"gender\"]\n",
        "  dit_user_details['passion'] = dit[\"passion\"]\n",
        "  dit_user_details['job'] = dit[\"job\"]\n",
        "  dit_user_details['company']= dit[\"company\"]\n",
        "  dit_user_details['createdAt']= firestore.SERVER_TIMESTAMP\n",
        "\n",
        "  store.collection(\"users\").document(uid).set(dit_user_details)\n"
      ],
      "execution_count": null,
      "outputs": []
    },
    {
      "cell_type": "code",
      "metadata": {
        "id": "In7nav_UHhFg"
      },
      "source": [
        "dit = {}\n",
        "dit [\"name\"] = \"sana\"\n",
        "dit [\"number\"] = \"9776652482\"\n",
        "dit [\"image\"] = \"https://firebasestorage.googleapis.com/v0/b/tinder-api-b2a46.appspot.com/o/12.PNG?alt=media&token=ef00d7d4-6a4c-4a19-b307-1ae1852e0e09\"\n",
        "dit [\"bio\"] = \"married\"\n",
        "dit [\"location\"] = {\n",
        "    \"coordinate\":{\"lat\":27.2046,\"lng\": 77.4977},\n",
        "    \"city\":\"mumbai\",\n",
        "    \"state\": \"maharashtra\",\n",
        "    \"country\": \"india\"}\n",
        "dit [\"DOB\"] = \"12/01/1995\"\n",
        "dit [\"gender\"] = \"female\"\n",
        "dit [\"passion\"] = \"exploring\"\n",
        "dit [\"job\"] = \"student\"\n",
        "dit [\"company\"] = \"NA\"\n"
      ],
      "execution_count": null,
      "outputs": []
    },
    {
      "cell_type": "code",
      "metadata": {
        "id": "WFXqIHyWsu8E"
      },
      "source": [
        "updateUserData(\"lQ7aCdzDCueG6AY0rzyvMpzwe7du225231\",dit)"
      ],
      "execution_count": null,
      "outputs": []
    },
    {
      "cell_type": "code",
      "metadata": {
        "id": "8unWrJRWvLhP"
      },
      "source": [
        "# Get the feed\n",
        "\n",
        "def getFeed(gender,country):\n",
        "  docs = store.collection(\"users\").where(\"gender\",\"==\",gender).stream()\n",
        "  dit = {}\n",
        "  for doc in docs:\n",
        "    if doc.to_dict().get(\"location\").get(\"country\") == country:\n",
        "      dit[doc.id] = doc.to_dict()\n",
        "  return dit\n"
      ],
      "execution_count": null,
      "outputs": []
    },
    {
      "cell_type": "code",
      "metadata": {
        "id": "1sadbIquyqMx"
      },
      "source": [
        "allProfiles = getFeed(\"male\",\"GERMANY\")"
      ],
      "execution_count": null,
      "outputs": []
    },
    {
      "cell_type": "code",
      "metadata": {
        "colab": {
          "base_uri": "https://localhost:8080/"
        },
        "id": "4Vwhm88nyv-u",
        "outputId": "01e03852-5f2f-45a6-ae0c-6319e1732477"
      },
      "source": [
        "allProfiles"
      ],
      "execution_count": null,
      "outputs": [
        {
          "output_type": "execute_result",
          "data": {
            "text/plain": [
              "{}"
            ]
          },
          "metadata": {
            "tags": []
          },
          "execution_count": 53
        }
      ]
    },
    {
      "cell_type": "code",
      "metadata": {
        "id": "GT0232x0yyVt"
      },
      "source": [
        "# swipe\n",
        "#---> UID_A = \"UID\"\n",
        "#--->UID_B = \"UID\"\n",
        "# isUserA_Yes = True/False\n",
        "#  isUserB_Yes = True/False '''"
      ],
      "execution_count": 6,
      "outputs": []
    },
    {
      "cell_type": "code",
      "metadata": {
        "id": "AlaSamFxjxeQ"
      },
      "source": [
        "def swipeFun(uidA,uidB,isA_Yes,isB_Yes,firstTime):\n",
        "\n",
        "  dit = {} \n",
        "\n",
        "  dit[\"UID_A\"] = uidA\n",
        "  dit[\"UID_B\"] = uidB\n",
        "  dit[\"isUserA_Yes\"] = isA_Yes\n",
        "  dit[\"isUserB_Yes\"] = isB_Yes\n",
        "  dit[\"isTheOtherUserShownProfileAtLeastOnce\"] = firstTime\n",
        "  dit[\"createdAt\"] = firestore.SERVER_TIMESTAMP\n",
        "\n",
        "  store.collection(\"swipe\").add(dit)\n"
      ],
      "execution_count": 19,
      "outputs": []
    },
    {
      "cell_type": "code",
      "metadata": {
        "id": "54_GpILZlVJh"
      },
      "source": [
        "uidA = \"lQ7aCdzDCueG6AY0rzyvMzwe7du225231\"\n",
        "uidB = \"lQ7aCdzDCueG6AY0rzyvMzwe7du22231\"\n",
        "isA_Yes = True\n",
        "isB_Yes = False\n",
        "firstTime = False\n",
        "\n",
        "swipeFun(uidA, uidB, isA_Yes, isB_Yes, firstTime)"
      ],
      "execution_count": 20,
      "outputs": []
    },
    {
      "cell_type": "code",
      "metadata": {
        "id": "c3pP9T4FmPL3"
      },
      "source": [
        "# Match\n",
        "\n",
        "def getMatchFun(uid):\n",
        "  docs = store.collection(\"swipes\").stream()\n",
        "  ditSwipes = {}\n",
        "  for doc in docs:\n",
        "    if ((doc.to_dict().get(\"UID_A\") == uid or doc.to_dict().get(\"UID_B\") == uid) and (doc.to_dict().get(\"isUserA_Yes\") == True and (doc.to_dict().get(\"isUserB_Yes\") == True))):\n",
        "      ditSwipes[doc.id] = doc.to_dict()\n",
        "  return ditSwipes"
      ],
      "execution_count": 33,
      "outputs": []
    },
    {
      "cell_type": "code",
      "metadata": {
        "colab": {
          "base_uri": "https://localhost:8080/"
        },
        "id": "_xQz7K-NrMp4",
        "outputId": "ab371eb5-3e93-40e5-8888-a2beb11a082c"
      },
      "source": [
        "getMatchFun(\"lQ7aCdzDCueG6AY0rzyvMzwe7du225231\")"
      ],
      "execution_count": 34,
      "outputs": [
        {
          "output_type": "execute_result",
          "data": {
            "text/plain": [
              "{}"
            ]
          },
          "metadata": {
            "tags": []
          },
          "execution_count": 34
        }
      ]
    },
    {
      "cell_type": "code",
      "metadata": {
        "id": "F7OQbfd0vFnt"
      },
      "source": [
        ""
      ],
      "execution_count": null,
      "outputs": []
    }
  ]
}